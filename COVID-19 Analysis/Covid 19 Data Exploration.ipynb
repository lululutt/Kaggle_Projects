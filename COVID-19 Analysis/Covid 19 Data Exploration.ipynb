{
 "cells": [
  {
   "cell_type": "markdown",
   "metadata": {},
   "source": [
    "### Data Information: \n",
    "1. SNo - Serial number\n",
    "2. ObservationDate - Date of the observation in MM/DD/YYYY\n",
    "3. Country/Region - Country of observation\n",
    "4. Last Update - Time in UTC at which the row is updated for the given province or country. (Not standardised)\n",
    "5. Confirmed - Cumulative number of confirmed cases till that date\n",
    "6. Deaths - Cumulative number of of deaths till that date\n",
    "7. Recovered - Cumulative number of recovered cases till that date\n",
    "\n",
    "### Problem Statement Guide:\n",
    "1. Analyse the data and develop a strong data story. Dont be limited to the data provided. Feel free to use any other publicly available datasets to support or reinforce your findings. Some sample hypothesis/questions could be:\n",
    "(What is the average recovery time, and has it changed over time and is there a way to predict the recovery time?\n",
    "Is there any seasonality pattern that is emerging from the data?\n",
    "Is there any statistically different behavior observed in any location across different point in time?)\n",
    "2. Don't be limited to the above questions. Feel free to come up with your own hypothesis. \n",
    "3. We are not focusing on answers alone. We would also look at your ability to wrangle data, creativity in approaching the problem, organization of the work."
   ]
  },
  {
   "cell_type": "markdown",
   "metadata": {},
   "source": [
    "## Libraries required"
   ]
  },
  {
   "cell_type": "code",
   "execution_count": 1,
   "metadata": {},
   "outputs": [],
   "source": [
    "import pandas as pd\n",
    "import numpy as np\n",
    "\n",
    "import matplotlib.pyplot as plt\n",
    "import seaborn as sns\n",
    "%matplotlib inline\n",
    "\n",
    "import math\n",
    "\n",
    "from datetime import datetime"
   ]
  },
  {
   "cell_type": "markdown",
   "metadata": {},
   "source": [
    "## Initial Data Preparation"
   ]
  },
  {
   "cell_type": "markdown",
   "metadata": {},
   "source": [
    "### Read Data from 3 Separate Sheets\n",
    "1. confirmed: \"Confirmed cases\" sheet\n",
    "2. deaths: \"Deaths\" sheet\n",
    "3. recovered: \"Recovered\" sheet"
   ]
  },
  {
   "cell_type": "code",
   "execution_count": 3,
   "metadata": {},
   "outputs": [],
   "source": [
    "confirmed = pd.read_excel(\"Technical Assessment_Data Analyst (Part 1).xlsx\", \"Confirmed cases\")\n",
    "deaths = pd.read_excel(\"Technical Assessment_Data Analyst (Part 2).xlsx\", \"Deaths\")\n",
    "recovered = pd.read_excel(\"Technical Assessment_Data Analyst (Part 2).xlsx\", \"Recovered\")"
   ]
  },
  {
   "cell_type": "code",
   "execution_count": 4,
   "metadata": {},
   "outputs": [
    {
     "data": {
      "text/html": [
       "<div>\n",
       "<style scoped>\n",
       "    .dataframe tbody tr th:only-of-type {\n",
       "        vertical-align: middle;\n",
       "    }\n",
       "\n",
       "    .dataframe tbody tr th {\n",
       "        vertical-align: top;\n",
       "    }\n",
       "\n",
       "    .dataframe thead th {\n",
       "        text-align: right;\n",
       "    }\n",
       "</style>\n",
       "<table border=\"1\" class=\"dataframe\">\n",
       "  <thead>\n",
       "    <tr style=\"text-align: right;\">\n",
       "      <th></th>\n",
       "      <th>SNo</th>\n",
       "      <th>ObservationDate</th>\n",
       "      <th>Province/State</th>\n",
       "      <th>Country/Region</th>\n",
       "      <th>Last Update</th>\n",
       "      <th>Confirmed</th>\n",
       "    </tr>\n",
       "  </thead>\n",
       "  <tbody>\n",
       "    <tr>\n",
       "      <th>0</th>\n",
       "      <td>1</td>\n",
       "      <td>01/22/2020</td>\n",
       "      <td>Anhui</td>\n",
       "      <td>Mainland China</td>\n",
       "      <td>1/22/2020 17:00</td>\n",
       "      <td>1</td>\n",
       "    </tr>\n",
       "    <tr>\n",
       "      <th>1</th>\n",
       "      <td>2</td>\n",
       "      <td>01/22/2020</td>\n",
       "      <td>Beijing</td>\n",
       "      <td>Mainland China</td>\n",
       "      <td>1/22/2020 17:00</td>\n",
       "      <td>14</td>\n",
       "    </tr>\n",
       "    <tr>\n",
       "      <th>2</th>\n",
       "      <td>3</td>\n",
       "      <td>01/22/2020</td>\n",
       "      <td>Chongqing</td>\n",
       "      <td>Mainland China</td>\n",
       "      <td>1/22/2020 17:00</td>\n",
       "      <td>6</td>\n",
       "    </tr>\n",
       "    <tr>\n",
       "      <th>3</th>\n",
       "      <td>4</td>\n",
       "      <td>01/22/2020</td>\n",
       "      <td>Fujian</td>\n",
       "      <td>Mainland China</td>\n",
       "      <td>1/22/2020 17:00</td>\n",
       "      <td>1</td>\n",
       "    </tr>\n",
       "    <tr>\n",
       "      <th>4</th>\n",
       "      <td>5</td>\n",
       "      <td>01/22/2020</td>\n",
       "      <td>Gansu</td>\n",
       "      <td>Mainland China</td>\n",
       "      <td>1/22/2020 17:00</td>\n",
       "      <td>0</td>\n",
       "    </tr>\n",
       "  </tbody>\n",
       "</table>\n",
       "</div>"
      ],
      "text/plain": [
       "   SNo ObservationDate Province/State  Country/Region      Last Update  \\\n",
       "0    1      01/22/2020          Anhui  Mainland China  1/22/2020 17:00   \n",
       "1    2      01/22/2020        Beijing  Mainland China  1/22/2020 17:00   \n",
       "2    3      01/22/2020      Chongqing  Mainland China  1/22/2020 17:00   \n",
       "3    4      01/22/2020         Fujian  Mainland China  1/22/2020 17:00   \n",
       "4    5      01/22/2020          Gansu  Mainland China  1/22/2020 17:00   \n",
       "\n",
       "   Confirmed  \n",
       "0          1  \n",
       "1         14  \n",
       "2          6  \n",
       "3          1  \n",
       "4          0  "
      ]
     },
     "execution_count": 4,
     "metadata": {},
     "output_type": "execute_result"
    }
   ],
   "source": [
    "confirmed.head()"
   ]
  },
  {
   "cell_type": "code",
   "execution_count": 5,
   "metadata": {},
   "outputs": [
    {
     "data": {
      "text/html": [
       "<div>\n",
       "<style scoped>\n",
       "    .dataframe tbody tr th:only-of-type {\n",
       "        vertical-align: middle;\n",
       "    }\n",
       "\n",
       "    .dataframe tbody tr th {\n",
       "        vertical-align: top;\n",
       "    }\n",
       "\n",
       "    .dataframe thead th {\n",
       "        text-align: right;\n",
       "    }\n",
       "</style>\n",
       "<table border=\"1\" class=\"dataframe\">\n",
       "  <thead>\n",
       "    <tr style=\"text-align: right;\">\n",
       "      <th></th>\n",
       "      <th>SNo</th>\n",
       "      <th>ObservationDate</th>\n",
       "      <th>Province/State</th>\n",
       "      <th>Country/Region</th>\n",
       "      <th>Last Update</th>\n",
       "      <th>Deaths</th>\n",
       "    </tr>\n",
       "  </thead>\n",
       "  <tbody>\n",
       "    <tr>\n",
       "      <th>0</th>\n",
       "      <td>1</td>\n",
       "      <td>01/22/2020</td>\n",
       "      <td>Anhui</td>\n",
       "      <td>Mainland China</td>\n",
       "      <td>1/22/2020 17:00</td>\n",
       "      <td>0</td>\n",
       "    </tr>\n",
       "    <tr>\n",
       "      <th>1</th>\n",
       "      <td>2</td>\n",
       "      <td>01/22/2020</td>\n",
       "      <td>Beijing</td>\n",
       "      <td>Mainland China</td>\n",
       "      <td>1/22/2020 17:00</td>\n",
       "      <td>0</td>\n",
       "    </tr>\n",
       "    <tr>\n",
       "      <th>2</th>\n",
       "      <td>3</td>\n",
       "      <td>01/22/2020</td>\n",
       "      <td>Chongqing</td>\n",
       "      <td>Mainland China</td>\n",
       "      <td>1/22/2020 17:00</td>\n",
       "      <td>0</td>\n",
       "    </tr>\n",
       "    <tr>\n",
       "      <th>3</th>\n",
       "      <td>4</td>\n",
       "      <td>01/22/2020</td>\n",
       "      <td>Fujian</td>\n",
       "      <td>Mainland China</td>\n",
       "      <td>1/22/2020 17:00</td>\n",
       "      <td>0</td>\n",
       "    </tr>\n",
       "    <tr>\n",
       "      <th>4</th>\n",
       "      <td>5</td>\n",
       "      <td>01/22/2020</td>\n",
       "      <td>Gansu</td>\n",
       "      <td>Mainland China</td>\n",
       "      <td>1/22/2020 17:00</td>\n",
       "      <td>0</td>\n",
       "    </tr>\n",
       "  </tbody>\n",
       "</table>\n",
       "</div>"
      ],
      "text/plain": [
       "   SNo ObservationDate Province/State  Country/Region      Last Update  Deaths\n",
       "0    1      01/22/2020          Anhui  Mainland China  1/22/2020 17:00       0\n",
       "1    2      01/22/2020        Beijing  Mainland China  1/22/2020 17:00       0\n",
       "2    3      01/22/2020      Chongqing  Mainland China  1/22/2020 17:00       0\n",
       "3    4      01/22/2020         Fujian  Mainland China  1/22/2020 17:00       0\n",
       "4    5      01/22/2020          Gansu  Mainland China  1/22/2020 17:00       0"
      ]
     },
     "execution_count": 5,
     "metadata": {},
     "output_type": "execute_result"
    }
   ],
   "source": [
    "deaths.head()"
   ]
  },
  {
   "cell_type": "code",
   "execution_count": 6,
   "metadata": {},
   "outputs": [
    {
     "data": {
      "text/html": [
       "<div>\n",
       "<style scoped>\n",
       "    .dataframe tbody tr th:only-of-type {\n",
       "        vertical-align: middle;\n",
       "    }\n",
       "\n",
       "    .dataframe tbody tr th {\n",
       "        vertical-align: top;\n",
       "    }\n",
       "\n",
       "    .dataframe thead th {\n",
       "        text-align: right;\n",
       "    }\n",
       "</style>\n",
       "<table border=\"1\" class=\"dataframe\">\n",
       "  <thead>\n",
       "    <tr style=\"text-align: right;\">\n",
       "      <th></th>\n",
       "      <th>SNo</th>\n",
       "      <th>ObservationDate</th>\n",
       "      <th>Province/State</th>\n",
       "      <th>Country/Region</th>\n",
       "      <th>Last Update</th>\n",
       "      <th>Recovered</th>\n",
       "    </tr>\n",
       "  </thead>\n",
       "  <tbody>\n",
       "    <tr>\n",
       "      <th>0</th>\n",
       "      <td>1</td>\n",
       "      <td>01/22/2020</td>\n",
       "      <td>Anhui</td>\n",
       "      <td>Mainland China</td>\n",
       "      <td>1/22/2020 17:00</td>\n",
       "      <td>0</td>\n",
       "    </tr>\n",
       "    <tr>\n",
       "      <th>1</th>\n",
       "      <td>2</td>\n",
       "      <td>01/22/2020</td>\n",
       "      <td>Beijing</td>\n",
       "      <td>Mainland China</td>\n",
       "      <td>1/22/2020 17:00</td>\n",
       "      <td>0</td>\n",
       "    </tr>\n",
       "    <tr>\n",
       "      <th>2</th>\n",
       "      <td>3</td>\n",
       "      <td>01/22/2020</td>\n",
       "      <td>Chongqing</td>\n",
       "      <td>Mainland China</td>\n",
       "      <td>1/22/2020 17:00</td>\n",
       "      <td>0</td>\n",
       "    </tr>\n",
       "    <tr>\n",
       "      <th>3</th>\n",
       "      <td>4</td>\n",
       "      <td>01/22/2020</td>\n",
       "      <td>Fujian</td>\n",
       "      <td>Mainland China</td>\n",
       "      <td>1/22/2020 17:00</td>\n",
       "      <td>0</td>\n",
       "    </tr>\n",
       "    <tr>\n",
       "      <th>4</th>\n",
       "      <td>5</td>\n",
       "      <td>01/22/2020</td>\n",
       "      <td>Gansu</td>\n",
       "      <td>Mainland China</td>\n",
       "      <td>1/22/2020 17:00</td>\n",
       "      <td>0</td>\n",
       "    </tr>\n",
       "  </tbody>\n",
       "</table>\n",
       "</div>"
      ],
      "text/plain": [
       "   SNo ObservationDate Province/State  Country/Region      Last Update  \\\n",
       "0    1      01/22/2020          Anhui  Mainland China  1/22/2020 17:00   \n",
       "1    2      01/22/2020        Beijing  Mainland China  1/22/2020 17:00   \n",
       "2    3      01/22/2020      Chongqing  Mainland China  1/22/2020 17:00   \n",
       "3    4      01/22/2020         Fujian  Mainland China  1/22/2020 17:00   \n",
       "4    5      01/22/2020          Gansu  Mainland China  1/22/2020 17:00   \n",
       "\n",
       "   Recovered  \n",
       "0          0  \n",
       "1          0  \n",
       "2          0  \n",
       "3          0  \n",
       "4          0  "
      ]
     },
     "execution_count": 6,
     "metadata": {},
     "output_type": "execute_result"
    }
   ],
   "source": [
    "recovered.head()"
   ]
  },
  {
   "cell_type": "code",
   "execution_count": 7,
   "metadata": {},
   "outputs": [
    {
     "name": "stdout",
     "output_type": "stream",
     "text": [
      "(306429, 6)\n",
      "(306429, 6)\n",
      "(306429, 6)\n"
     ]
    }
   ],
   "source": [
    "print(confirmed.shape)\n",
    "print(deaths.shape)\n",
    "print(recovered.shape)"
   ]
  },
  {
   "cell_type": "markdown",
   "metadata": {},
   "source": [
    "### Merge on SNo\n",
    "- Based on shape, there is a similar number of records which allows easy merging on SNo"
   ]
  },
  {
   "cell_type": "code",
   "execution_count": 8,
   "metadata": {},
   "outputs": [],
   "source": [
    "combined = pd.merge(confirmed, deaths[['SNo','Deaths']], on = \"SNo\", how = \"left\")\n",
    "combined = pd.merge(combined, recovered[['SNo','Recovered']], on = \"SNo\", how = \"left\")"
   ]
  },
  {
   "cell_type": "code",
   "execution_count": 9,
   "metadata": {},
   "outputs": [
    {
     "data": {
      "text/html": [
       "<div>\n",
       "<style scoped>\n",
       "    .dataframe tbody tr th:only-of-type {\n",
       "        vertical-align: middle;\n",
       "    }\n",
       "\n",
       "    .dataframe tbody tr th {\n",
       "        vertical-align: top;\n",
       "    }\n",
       "\n",
       "    .dataframe thead th {\n",
       "        text-align: right;\n",
       "    }\n",
       "</style>\n",
       "<table border=\"1\" class=\"dataframe\">\n",
       "  <thead>\n",
       "    <tr style=\"text-align: right;\">\n",
       "      <th></th>\n",
       "      <th>SNo</th>\n",
       "      <th>ObservationDate</th>\n",
       "      <th>Province/State</th>\n",
       "      <th>Country/Region</th>\n",
       "      <th>Last Update</th>\n",
       "      <th>Confirmed</th>\n",
       "      <th>Deaths</th>\n",
       "      <th>Recovered</th>\n",
       "    </tr>\n",
       "  </thead>\n",
       "  <tbody>\n",
       "    <tr>\n",
       "      <th>0</th>\n",
       "      <td>1</td>\n",
       "      <td>01/22/2020</td>\n",
       "      <td>Anhui</td>\n",
       "      <td>Mainland China</td>\n",
       "      <td>1/22/2020 17:00</td>\n",
       "      <td>1</td>\n",
       "      <td>0</td>\n",
       "      <td>0</td>\n",
       "    </tr>\n",
       "    <tr>\n",
       "      <th>1</th>\n",
       "      <td>2</td>\n",
       "      <td>01/22/2020</td>\n",
       "      <td>Beijing</td>\n",
       "      <td>Mainland China</td>\n",
       "      <td>1/22/2020 17:00</td>\n",
       "      <td>14</td>\n",
       "      <td>0</td>\n",
       "      <td>0</td>\n",
       "    </tr>\n",
       "    <tr>\n",
       "      <th>2</th>\n",
       "      <td>3</td>\n",
       "      <td>01/22/2020</td>\n",
       "      <td>Chongqing</td>\n",
       "      <td>Mainland China</td>\n",
       "      <td>1/22/2020 17:00</td>\n",
       "      <td>6</td>\n",
       "      <td>0</td>\n",
       "      <td>0</td>\n",
       "    </tr>\n",
       "    <tr>\n",
       "      <th>3</th>\n",
       "      <td>4</td>\n",
       "      <td>01/22/2020</td>\n",
       "      <td>Fujian</td>\n",
       "      <td>Mainland China</td>\n",
       "      <td>1/22/2020 17:00</td>\n",
       "      <td>1</td>\n",
       "      <td>0</td>\n",
       "      <td>0</td>\n",
       "    </tr>\n",
       "    <tr>\n",
       "      <th>4</th>\n",
       "      <td>5</td>\n",
       "      <td>01/22/2020</td>\n",
       "      <td>Gansu</td>\n",
       "      <td>Mainland China</td>\n",
       "      <td>1/22/2020 17:00</td>\n",
       "      <td>0</td>\n",
       "      <td>0</td>\n",
       "      <td>0</td>\n",
       "    </tr>\n",
       "  </tbody>\n",
       "</table>\n",
       "</div>"
      ],
      "text/plain": [
       "   SNo ObservationDate Province/State  Country/Region      Last Update  \\\n",
       "0    1      01/22/2020          Anhui  Mainland China  1/22/2020 17:00   \n",
       "1    2      01/22/2020        Beijing  Mainland China  1/22/2020 17:00   \n",
       "2    3      01/22/2020      Chongqing  Mainland China  1/22/2020 17:00   \n",
       "3    4      01/22/2020         Fujian  Mainland China  1/22/2020 17:00   \n",
       "4    5      01/22/2020          Gansu  Mainland China  1/22/2020 17:00   \n",
       "\n",
       "   Confirmed  Deaths  Recovered  \n",
       "0          1       0          0  \n",
       "1         14       0          0  \n",
       "2          6       0          0  \n",
       "3          1       0          0  \n",
       "4          0       0          0  "
      ]
     },
     "execution_count": 9,
     "metadata": {},
     "output_type": "execute_result"
    }
   ],
   "source": [
    "combined.head()"
   ]
  },
  {
   "cell_type": "markdown",
   "metadata": {},
   "source": [
    "### Convert \"ObservationDate\" to standardized string column and rename to just \"Date\"\n",
    "- Realised the \"ObservationDate\" column takes up multiple formats\n",
    "- Standardized string column enable easier plotting later on\n",
    "- \"Date\" instead of \"ObservationDate\" saves time in typing"
   ]
  },
  {
   "cell_type": "code",
   "execution_count": 10,
   "metadata": {},
   "outputs": [],
   "source": [
    "def date_cleaner(obs_date):\n",
    "    if type(obs_date) != str:\n",
    "        obs_date = datetime.strptime(obs_date.strftime(\"%m/%d/%Y\"), \"%d/%m/%Y\")\n",
    "        return obs_date\n",
    "    else:\n",
    "        obs_date = datetime.strptime(obs_date, \"%m/%d/%Y\")\n",
    "        return obs_date"
   ]
  },
  {
   "cell_type": "code",
   "execution_count": 11,
   "metadata": {},
   "outputs": [],
   "source": [
    "combined[\"Date\"] = combined[\"ObservationDate\"].apply(lambda x: date_cleaner(x))\n",
    "combined = combined[[\"SNo\", \"Date\", \"Province/State\", \"Country/Region\", \"Confirmed\", \"Deaths\", \"Recovered\"]]"
   ]
  },
  {
   "cell_type": "code",
   "execution_count": 12,
   "metadata": {},
   "outputs": [
    {
     "data": {
      "text/html": [
       "<div>\n",
       "<style scoped>\n",
       "    .dataframe tbody tr th:only-of-type {\n",
       "        vertical-align: middle;\n",
       "    }\n",
       "\n",
       "    .dataframe tbody tr th {\n",
       "        vertical-align: top;\n",
       "    }\n",
       "\n",
       "    .dataframe thead th {\n",
       "        text-align: right;\n",
       "    }\n",
       "</style>\n",
       "<table border=\"1\" class=\"dataframe\">\n",
       "  <thead>\n",
       "    <tr style=\"text-align: right;\">\n",
       "      <th></th>\n",
       "      <th>SNo</th>\n",
       "      <th>Date</th>\n",
       "      <th>Province/State</th>\n",
       "      <th>Country/Region</th>\n",
       "      <th>Confirmed</th>\n",
       "      <th>Deaths</th>\n",
       "      <th>Recovered</th>\n",
       "    </tr>\n",
       "  </thead>\n",
       "  <tbody>\n",
       "    <tr>\n",
       "      <th>0</th>\n",
       "      <td>1</td>\n",
       "      <td>2020-01-22</td>\n",
       "      <td>Anhui</td>\n",
       "      <td>Mainland China</td>\n",
       "      <td>1</td>\n",
       "      <td>0</td>\n",
       "      <td>0</td>\n",
       "    </tr>\n",
       "    <tr>\n",
       "      <th>1</th>\n",
       "      <td>2</td>\n",
       "      <td>2020-01-22</td>\n",
       "      <td>Beijing</td>\n",
       "      <td>Mainland China</td>\n",
       "      <td>14</td>\n",
       "      <td>0</td>\n",
       "      <td>0</td>\n",
       "    </tr>\n",
       "    <tr>\n",
       "      <th>2</th>\n",
       "      <td>3</td>\n",
       "      <td>2020-01-22</td>\n",
       "      <td>Chongqing</td>\n",
       "      <td>Mainland China</td>\n",
       "      <td>6</td>\n",
       "      <td>0</td>\n",
       "      <td>0</td>\n",
       "    </tr>\n",
       "    <tr>\n",
       "      <th>3</th>\n",
       "      <td>4</td>\n",
       "      <td>2020-01-22</td>\n",
       "      <td>Fujian</td>\n",
       "      <td>Mainland China</td>\n",
       "      <td>1</td>\n",
       "      <td>0</td>\n",
       "      <td>0</td>\n",
       "    </tr>\n",
       "    <tr>\n",
       "      <th>4</th>\n",
       "      <td>5</td>\n",
       "      <td>2020-01-22</td>\n",
       "      <td>Gansu</td>\n",
       "      <td>Mainland China</td>\n",
       "      <td>0</td>\n",
       "      <td>0</td>\n",
       "      <td>0</td>\n",
       "    </tr>\n",
       "  </tbody>\n",
       "</table>\n",
       "</div>"
      ],
      "text/plain": [
       "   SNo       Date Province/State  Country/Region  Confirmed  Deaths  Recovered\n",
       "0    1 2020-01-22          Anhui  Mainland China          1       0          0\n",
       "1    2 2020-01-22        Beijing  Mainland China         14       0          0\n",
       "2    3 2020-01-22      Chongqing  Mainland China          6       0          0\n",
       "3    4 2020-01-22         Fujian  Mainland China          1       0          0\n",
       "4    5 2020-01-22          Gansu  Mainland China          0       0          0"
      ]
     },
     "execution_count": 12,
     "metadata": {},
     "output_type": "execute_result"
    }
   ],
   "source": [
    "combined.head()"
   ]
  },
  {
   "cell_type": "markdown",
   "metadata": {},
   "source": [
    "### Calculate Active Cases\n",
    "- Could be relevant for analysis later on"
   ]
  },
  {
   "cell_type": "code",
   "execution_count": 13,
   "metadata": {},
   "outputs": [],
   "source": [
    "combined.loc[:,\"Active\"] = combined[\"Confirmed\"] - combined[\"Recovered\"] - combined[\"Deaths\"]"
   ]
  },
  {
   "cell_type": "code",
   "execution_count": 14,
   "metadata": {},
   "outputs": [
    {
     "data": {
      "text/html": [
       "<div>\n",
       "<style scoped>\n",
       "    .dataframe tbody tr th:only-of-type {\n",
       "        vertical-align: middle;\n",
       "    }\n",
       "\n",
       "    .dataframe tbody tr th {\n",
       "        vertical-align: top;\n",
       "    }\n",
       "\n",
       "    .dataframe thead th {\n",
       "        text-align: right;\n",
       "    }\n",
       "</style>\n",
       "<table border=\"1\" class=\"dataframe\">\n",
       "  <thead>\n",
       "    <tr style=\"text-align: right;\">\n",
       "      <th></th>\n",
       "      <th>SNo</th>\n",
       "      <th>Date</th>\n",
       "      <th>Province/State</th>\n",
       "      <th>Country/Region</th>\n",
       "      <th>Confirmed</th>\n",
       "      <th>Deaths</th>\n",
       "      <th>Recovered</th>\n",
       "      <th>Active</th>\n",
       "    </tr>\n",
       "  </thead>\n",
       "  <tbody>\n",
       "    <tr>\n",
       "      <th>0</th>\n",
       "      <td>1</td>\n",
       "      <td>2020-01-22</td>\n",
       "      <td>Anhui</td>\n",
       "      <td>Mainland China</td>\n",
       "      <td>1</td>\n",
       "      <td>0</td>\n",
       "      <td>0</td>\n",
       "      <td>1</td>\n",
       "    </tr>\n",
       "    <tr>\n",
       "      <th>1</th>\n",
       "      <td>2</td>\n",
       "      <td>2020-01-22</td>\n",
       "      <td>Beijing</td>\n",
       "      <td>Mainland China</td>\n",
       "      <td>14</td>\n",
       "      <td>0</td>\n",
       "      <td>0</td>\n",
       "      <td>14</td>\n",
       "    </tr>\n",
       "    <tr>\n",
       "      <th>2</th>\n",
       "      <td>3</td>\n",
       "      <td>2020-01-22</td>\n",
       "      <td>Chongqing</td>\n",
       "      <td>Mainland China</td>\n",
       "      <td>6</td>\n",
       "      <td>0</td>\n",
       "      <td>0</td>\n",
       "      <td>6</td>\n",
       "    </tr>\n",
       "    <tr>\n",
       "      <th>3</th>\n",
       "      <td>4</td>\n",
       "      <td>2020-01-22</td>\n",
       "      <td>Fujian</td>\n",
       "      <td>Mainland China</td>\n",
       "      <td>1</td>\n",
       "      <td>0</td>\n",
       "      <td>0</td>\n",
       "      <td>1</td>\n",
       "    </tr>\n",
       "    <tr>\n",
       "      <th>4</th>\n",
       "      <td>5</td>\n",
       "      <td>2020-01-22</td>\n",
       "      <td>Gansu</td>\n",
       "      <td>Mainland China</td>\n",
       "      <td>0</td>\n",
       "      <td>0</td>\n",
       "      <td>0</td>\n",
       "      <td>0</td>\n",
       "    </tr>\n",
       "  </tbody>\n",
       "</table>\n",
       "</div>"
      ],
      "text/plain": [
       "   SNo       Date Province/State  Country/Region  Confirmed  Deaths  \\\n",
       "0    1 2020-01-22          Anhui  Mainland China          1       0   \n",
       "1    2 2020-01-22        Beijing  Mainland China         14       0   \n",
       "2    3 2020-01-22      Chongqing  Mainland China          6       0   \n",
       "3    4 2020-01-22         Fujian  Mainland China          1       0   \n",
       "4    5 2020-01-22          Gansu  Mainland China          0       0   \n",
       "\n",
       "   Recovered  Active  \n",
       "0          0       1  \n",
       "1          0      14  \n",
       "2          0       6  \n",
       "3          0       1  \n",
       "4          0       0  "
      ]
     },
     "execution_count": 14,
     "metadata": {},
     "output_type": "execute_result"
    }
   ],
   "source": [
    "combined.head()"
   ]
  },
  {
   "cell_type": "code",
   "execution_count": 15,
   "metadata": {},
   "outputs": [
    {
     "data": {
      "text/html": [
       "<div>\n",
       "<style scoped>\n",
       "    .dataframe tbody tr th:only-of-type {\n",
       "        vertical-align: middle;\n",
       "    }\n",
       "\n",
       "    .dataframe tbody tr th {\n",
       "        vertical-align: top;\n",
       "    }\n",
       "\n",
       "    .dataframe thead th {\n",
       "        text-align: right;\n",
       "    }\n",
       "</style>\n",
       "<table border=\"1\" class=\"dataframe\">\n",
       "  <thead>\n",
       "    <tr style=\"text-align: right;\">\n",
       "      <th></th>\n",
       "      <th>SNo</th>\n",
       "      <th>Date</th>\n",
       "      <th>Province/State</th>\n",
       "      <th>Country/Region</th>\n",
       "      <th>Confirmed</th>\n",
       "      <th>Deaths</th>\n",
       "      <th>Recovered</th>\n",
       "      <th>Active</th>\n",
       "    </tr>\n",
       "  </thead>\n",
       "  <tbody>\n",
       "    <tr>\n",
       "      <th>306424</th>\n",
       "      <td>306425</td>\n",
       "      <td>2021-05-29</td>\n",
       "      <td>Zaporizhia Oblast</td>\n",
       "      <td>Ukraine</td>\n",
       "      <td>102641</td>\n",
       "      <td>2335</td>\n",
       "      <td>95289</td>\n",
       "      <td>5017</td>\n",
       "    </tr>\n",
       "    <tr>\n",
       "      <th>306425</th>\n",
       "      <td>306426</td>\n",
       "      <td>2021-05-29</td>\n",
       "      <td>Zeeland</td>\n",
       "      <td>Netherlands</td>\n",
       "      <td>29147</td>\n",
       "      <td>245</td>\n",
       "      <td>0</td>\n",
       "      <td>28902</td>\n",
       "    </tr>\n",
       "    <tr>\n",
       "      <th>306426</th>\n",
       "      <td>306427</td>\n",
       "      <td>2021-05-29</td>\n",
       "      <td>Zhejiang</td>\n",
       "      <td>Mainland China</td>\n",
       "      <td>1364</td>\n",
       "      <td>1</td>\n",
       "      <td>1324</td>\n",
       "      <td>39</td>\n",
       "    </tr>\n",
       "    <tr>\n",
       "      <th>306427</th>\n",
       "      <td>306428</td>\n",
       "      <td>2021-05-29</td>\n",
       "      <td>Zhytomyr Oblast</td>\n",
       "      <td>Ukraine</td>\n",
       "      <td>87550</td>\n",
       "      <td>1738</td>\n",
       "      <td>83790</td>\n",
       "      <td>2022</td>\n",
       "    </tr>\n",
       "    <tr>\n",
       "      <th>306428</th>\n",
       "      <td>306429</td>\n",
       "      <td>2021-05-29</td>\n",
       "      <td>Zuid-Holland</td>\n",
       "      <td>Netherlands</td>\n",
       "      <td>391559</td>\n",
       "      <td>4252</td>\n",
       "      <td>0</td>\n",
       "      <td>387307</td>\n",
       "    </tr>\n",
       "  </tbody>\n",
       "</table>\n",
       "</div>"
      ],
      "text/plain": [
       "           SNo       Date     Province/State  Country/Region  Confirmed  \\\n",
       "306424  306425 2021-05-29  Zaporizhia Oblast         Ukraine     102641   \n",
       "306425  306426 2021-05-29            Zeeland     Netherlands      29147   \n",
       "306426  306427 2021-05-29           Zhejiang  Mainland China       1364   \n",
       "306427  306428 2021-05-29    Zhytomyr Oblast         Ukraine      87550   \n",
       "306428  306429 2021-05-29       Zuid-Holland     Netherlands     391559   \n",
       "\n",
       "        Deaths  Recovered  Active  \n",
       "306424    2335      95289    5017  \n",
       "306425     245          0   28902  \n",
       "306426       1       1324      39  \n",
       "306427    1738      83790    2022  \n",
       "306428    4252          0  387307  "
      ]
     },
     "execution_count": 15,
     "metadata": {},
     "output_type": "execute_result"
    }
   ],
   "source": [
    "combined.tail()"
   ]
  },
  {
   "cell_type": "markdown",
   "metadata": {},
   "source": [
    "## Exploratory Data Analysis based on end day (2021-05-29)\n",
    "1. Which countries have the most/least confirmed cases?\n",
    "2. Which countries have the highest/lowest number of deaths?"
   ]
  },
  {
   "cell_type": "code",
   "execution_count": 16,
   "metadata": {},
   "outputs": [],
   "source": [
    "combined_final = combined.groupby([\"Date\", \"Country/Region\"])[[\"Confirmed\", \"Deaths\", \"Recovered\", \"Active\"]].sum()"
   ]
  },
  {
   "cell_type": "code",
   "execution_count": 17,
   "metadata": {},
   "outputs": [],
   "source": [
    "rows = []\n",
    "for i in range(-195, 0):\n",
    "    rows.append(i)\n",
    "\n",
    "combined_29_5 = combined_final.iloc[rows]"
   ]
  },
  {
   "cell_type": "code",
   "execution_count": 18,
   "metadata": {},
   "outputs": [
    {
     "data": {
      "text/html": [
       "<div>\n",
       "<style scoped>\n",
       "    .dataframe tbody tr th:only-of-type {\n",
       "        vertical-align: middle;\n",
       "    }\n",
       "\n",
       "    .dataframe tbody tr th {\n",
       "        vertical-align: top;\n",
       "    }\n",
       "\n",
       "    .dataframe thead th {\n",
       "        text-align: right;\n",
       "    }\n",
       "</style>\n",
       "<table border=\"1\" class=\"dataframe\">\n",
       "  <thead>\n",
       "    <tr style=\"text-align: right;\">\n",
       "      <th></th>\n",
       "      <th></th>\n",
       "      <th>Confirmed</th>\n",
       "      <th>Deaths</th>\n",
       "      <th>Recovered</th>\n",
       "      <th>Active</th>\n",
       "    </tr>\n",
       "    <tr>\n",
       "      <th>Date</th>\n",
       "      <th>Country/Region</th>\n",
       "      <th></th>\n",
       "      <th></th>\n",
       "      <th></th>\n",
       "      <th></th>\n",
       "    </tr>\n",
       "  </thead>\n",
       "  <tbody>\n",
       "    <tr>\n",
       "      <th rowspan=\"5\" valign=\"top\">2021-05-29</th>\n",
       "      <th>US</th>\n",
       "      <td>33251939</td>\n",
       "      <td>594306</td>\n",
       "      <td>0</td>\n",
       "      <td>32657633</td>\n",
       "    </tr>\n",
       "    <tr>\n",
       "      <th>India</th>\n",
       "      <td>27894800</td>\n",
       "      <td>325972</td>\n",
       "      <td>25454320</td>\n",
       "      <td>2114508</td>\n",
       "    </tr>\n",
       "    <tr>\n",
       "      <th>Brazil</th>\n",
       "      <td>16471600</td>\n",
       "      <td>461057</td>\n",
       "      <td>14496224</td>\n",
       "      <td>1514319</td>\n",
       "    </tr>\n",
       "    <tr>\n",
       "      <th>France</th>\n",
       "      <td>5719877</td>\n",
       "      <td>109518</td>\n",
       "      <td>390878</td>\n",
       "      <td>5219481</td>\n",
       "    </tr>\n",
       "    <tr>\n",
       "      <th>Turkey</th>\n",
       "      <td>5235978</td>\n",
       "      <td>47271</td>\n",
       "      <td>5094279</td>\n",
       "      <td>94428</td>\n",
       "    </tr>\n",
       "  </tbody>\n",
       "</table>\n",
       "</div>"
      ],
      "text/plain": [
       "                           Confirmed  Deaths  Recovered    Active\n",
       "Date       Country/Region                                        \n",
       "2021-05-29 US               33251939  594306          0  32657633\n",
       "           India            27894800  325972   25454320   2114508\n",
       "           Brazil           16471600  461057   14496224   1514319\n",
       "           France            5719877  109518     390878   5219481\n",
       "           Turkey            5235978   47271    5094279     94428"
      ]
     },
     "execution_count": 18,
     "metadata": {},
     "output_type": "execute_result"
    }
   ],
   "source": [
    "combined_29_5.sort_values(by = \"Confirmed\").iloc[[-1,-2,-3,-4,-5]]"
   ]
  },
  {
   "cell_type": "code",
   "execution_count": 19,
   "metadata": {},
   "outputs": [
    {
     "data": {
      "text/html": [
       "<div>\n",
       "<style scoped>\n",
       "    .dataframe tbody tr th:only-of-type {\n",
       "        vertical-align: middle;\n",
       "    }\n",
       "\n",
       "    .dataframe tbody tr th {\n",
       "        vertical-align: top;\n",
       "    }\n",
       "\n",
       "    .dataframe thead th {\n",
       "        text-align: right;\n",
       "    }\n",
       "</style>\n",
       "<table border=\"1\" class=\"dataframe\">\n",
       "  <thead>\n",
       "    <tr style=\"text-align: right;\">\n",
       "      <th></th>\n",
       "      <th></th>\n",
       "      <th>Confirmed</th>\n",
       "      <th>Deaths</th>\n",
       "      <th>Recovered</th>\n",
       "      <th>Active</th>\n",
       "    </tr>\n",
       "    <tr>\n",
       "      <th>Date</th>\n",
       "      <th>Country/Region</th>\n",
       "      <th></th>\n",
       "      <th></th>\n",
       "      <th></th>\n",
       "      <th></th>\n",
       "    </tr>\n",
       "  </thead>\n",
       "  <tbody>\n",
       "    <tr>\n",
       "      <th rowspan=\"5\" valign=\"top\">2021-05-29</th>\n",
       "      <th>Micronesia</th>\n",
       "      <td>1</td>\n",
       "      <td>0</td>\n",
       "      <td>1</td>\n",
       "      <td>0</td>\n",
       "    </tr>\n",
       "    <tr>\n",
       "      <th>Kiribati</th>\n",
       "      <td>2</td>\n",
       "      <td>0</td>\n",
       "      <td>0</td>\n",
       "      <td>2</td>\n",
       "    </tr>\n",
       "    <tr>\n",
       "      <th>Samoa</th>\n",
       "      <td>3</td>\n",
       "      <td>0</td>\n",
       "      <td>3</td>\n",
       "      <td>0</td>\n",
       "    </tr>\n",
       "    <tr>\n",
       "      <th>Vanuatu</th>\n",
       "      <td>4</td>\n",
       "      <td>1</td>\n",
       "      <td>3</td>\n",
       "      <td>0</td>\n",
       "    </tr>\n",
       "    <tr>\n",
       "      <th>Marshall Islands</th>\n",
       "      <td>4</td>\n",
       "      <td>0</td>\n",
       "      <td>4</td>\n",
       "      <td>0</td>\n",
       "    </tr>\n",
       "  </tbody>\n",
       "</table>\n",
       "</div>"
      ],
      "text/plain": [
       "                             Confirmed  Deaths  Recovered  Active\n",
       "Date       Country/Region                                        \n",
       "2021-05-29 Micronesia                1       0          1       0\n",
       "           Kiribati                  2       0          0       2\n",
       "           Samoa                     3       0          3       0\n",
       "           Vanuatu                   4       1          3       0\n",
       "           Marshall Islands          4       0          4       0"
      ]
     },
     "execution_count": 19,
     "metadata": {},
     "output_type": "execute_result"
    }
   ],
   "source": [
    "combined_29_5.sort_values(by = \"Confirmed\").iloc[[0, 1,2, 3, 4]]"
   ]
  },
  {
   "cell_type": "code",
   "execution_count": 20,
   "metadata": {},
   "outputs": [
    {
     "data": {
      "text/html": [
       "<div>\n",
       "<style scoped>\n",
       "    .dataframe tbody tr th:only-of-type {\n",
       "        vertical-align: middle;\n",
       "    }\n",
       "\n",
       "    .dataframe tbody tr th {\n",
       "        vertical-align: top;\n",
       "    }\n",
       "\n",
       "    .dataframe thead th {\n",
       "        text-align: right;\n",
       "    }\n",
       "</style>\n",
       "<table border=\"1\" class=\"dataframe\">\n",
       "  <thead>\n",
       "    <tr style=\"text-align: right;\">\n",
       "      <th></th>\n",
       "      <th></th>\n",
       "      <th>Confirmed</th>\n",
       "      <th>Deaths</th>\n",
       "      <th>Recovered</th>\n",
       "      <th>Active</th>\n",
       "    </tr>\n",
       "    <tr>\n",
       "      <th>Date</th>\n",
       "      <th>Country/Region</th>\n",
       "      <th></th>\n",
       "      <th></th>\n",
       "      <th></th>\n",
       "      <th></th>\n",
       "    </tr>\n",
       "  </thead>\n",
       "  <tbody>\n",
       "    <tr>\n",
       "      <th rowspan=\"5\" valign=\"top\">2021-05-29</th>\n",
       "      <th>US</th>\n",
       "      <td>33251939</td>\n",
       "      <td>594306</td>\n",
       "      <td>0</td>\n",
       "      <td>32657633</td>\n",
       "    </tr>\n",
       "    <tr>\n",
       "      <th>Brazil</th>\n",
       "      <td>16471600</td>\n",
       "      <td>461057</td>\n",
       "      <td>14496224</td>\n",
       "      <td>1514319</td>\n",
       "    </tr>\n",
       "    <tr>\n",
       "      <th>India</th>\n",
       "      <td>27894800</td>\n",
       "      <td>325972</td>\n",
       "      <td>25454320</td>\n",
       "      <td>2114508</td>\n",
       "    </tr>\n",
       "    <tr>\n",
       "      <th>Mexico</th>\n",
       "      <td>2411503</td>\n",
       "      <td>223455</td>\n",
       "      <td>1924865</td>\n",
       "      <td>263183</td>\n",
       "    </tr>\n",
       "    <tr>\n",
       "      <th>UK</th>\n",
       "      <td>4496823</td>\n",
       "      <td>128037</td>\n",
       "      <td>15481</td>\n",
       "      <td>4353305</td>\n",
       "    </tr>\n",
       "  </tbody>\n",
       "</table>\n",
       "</div>"
      ],
      "text/plain": [
       "                           Confirmed  Deaths  Recovered    Active\n",
       "Date       Country/Region                                        \n",
       "2021-05-29 US               33251939  594306          0  32657633\n",
       "           Brazil           16471600  461057   14496224   1514319\n",
       "           India            27894800  325972   25454320   2114508\n",
       "           Mexico            2411503  223455    1924865    263183\n",
       "           UK                4496823  128037      15481   4353305"
      ]
     },
     "execution_count": 20,
     "metadata": {},
     "output_type": "execute_result"
    }
   ],
   "source": [
    "combined_29_5.sort_values(by = \"Deaths\").iloc[[-1,-2,-3,-4,-5]]"
   ]
  },
  {
   "cell_type": "code",
   "execution_count": 21,
   "metadata": {},
   "outputs": [
    {
     "data": {
      "text/html": [
       "<div>\n",
       "<style scoped>\n",
       "    .dataframe tbody tr th:only-of-type {\n",
       "        vertical-align: middle;\n",
       "    }\n",
       "\n",
       "    .dataframe tbody tr th {\n",
       "        vertical-align: top;\n",
       "    }\n",
       "\n",
       "    .dataframe thead th {\n",
       "        text-align: right;\n",
       "    }\n",
       "</style>\n",
       "<table border=\"1\" class=\"dataframe\">\n",
       "  <thead>\n",
       "    <tr style=\"text-align: right;\">\n",
       "      <th></th>\n",
       "      <th></th>\n",
       "      <th>Confirmed</th>\n",
       "      <th>Deaths</th>\n",
       "      <th>Recovered</th>\n",
       "      <th>Active</th>\n",
       "    </tr>\n",
       "    <tr>\n",
       "      <th>Date</th>\n",
       "      <th>Country/Region</th>\n",
       "      <th></th>\n",
       "      <th></th>\n",
       "      <th></th>\n",
       "      <th></th>\n",
       "    </tr>\n",
       "  </thead>\n",
       "  <tbody>\n",
       "    <tr>\n",
       "      <th rowspan=\"5\" valign=\"top\">2021-05-29</th>\n",
       "      <th>Solomon Islands</th>\n",
       "      <td>20</td>\n",
       "      <td>0</td>\n",
       "      <td>20</td>\n",
       "      <td>0</td>\n",
       "    </tr>\n",
       "    <tr>\n",
       "      <th>Micronesia</th>\n",
       "      <td>1</td>\n",
       "      <td>0</td>\n",
       "      <td>1</td>\n",
       "      <td>0</td>\n",
       "    </tr>\n",
       "    <tr>\n",
       "      <th>Saint Kitts and Nevis</th>\n",
       "      <td>68</td>\n",
       "      <td>0</td>\n",
       "      <td>45</td>\n",
       "      <td>23</td>\n",
       "    </tr>\n",
       "    <tr>\n",
       "      <th>Macau</th>\n",
       "      <td>51</td>\n",
       "      <td>0</td>\n",
       "      <td>49</td>\n",
       "      <td>2</td>\n",
       "    </tr>\n",
       "    <tr>\n",
       "      <th>Samoa</th>\n",
       "      <td>3</td>\n",
       "      <td>0</td>\n",
       "      <td>3</td>\n",
       "      <td>0</td>\n",
       "    </tr>\n",
       "  </tbody>\n",
       "</table>\n",
       "</div>"
      ],
      "text/plain": [
       "                                  Confirmed  Deaths  Recovered  Active\n",
       "Date       Country/Region                                             \n",
       "2021-05-29 Solomon Islands               20       0         20       0\n",
       "           Micronesia                     1       0          1       0\n",
       "           Saint Kitts and Nevis         68       0         45      23\n",
       "           Macau                         51       0         49       2\n",
       "           Samoa                          3       0          3       0"
      ]
     },
     "execution_count": 21,
     "metadata": {},
     "output_type": "execute_result"
    }
   ],
   "source": [
    "combined_29_5.sort_values(by = \"Deaths\").iloc[[0, 1,2, 3, 4]]"
   ]
  },
  {
   "cell_type": "markdown",
   "metadata": {},
   "source": [
    "## Analysis 1: Investigate the Impact of Lockdowns on Number of New Cases\n",
    "## Hypothesis: Lockdowns would stifle upward trend on new cases projected from pre-lockdown phase"
   ]
  },
  {
   "cell_type": "markdown",
   "metadata": {},
   "source": [
    "### What is a lockdown?\n",
    "Lockdowns are one of the more highly adopted measures taken up by governments in preventing the spread of COVID-19. A lockdown refers to imposing several bans under many social restrictions which limit opportunities for social interaction. With a limit on opportunities for social interaction, it is believed that the increasing spread of the virus would be quelled."
   ]
  },
  {
   "cell_type": "markdown",
   "metadata": {},
   "source": [
    "### The Plan:\n",
    "1. Identify countries that went through a lockdown\n",
    "2. Observe period during pre-lockdown where an upward trend on new cases is observed (e.g 30 days)\n",
    "3. Project new cases during the period of lockdown\n",
    "4. Compare projection with actual plot during period of lockdown"
   ]
  },
  {
   "cell_type": "markdown",
   "metadata": {},
   "source": [
    "### Data Preparation:\n",
    "1. Subset country data by conditioning on \"Country/Region\" column\n",
    "2. If countries have multiple \"Provinces\", groupby \"Date\" and sum values for \"Confirmed\", \"Deaths\", \"Recovered\", \"Active\" cases\n",
    "3. Create \"New\" column representing the new daily cases from the previous day using the shift function\n",
    "4. Subset lockdown and pre-lockdown data by conditioning on \"Date\" column\n",
    "5. Create forecast dataframe to export and manipulate in Excel\n",
    "6. Utilize obtained equation to forecast \"New\" cases during lockdown period\n",
    "7. Create visualizations to identify success/failure of lockdown"
   ]
  },
  {
   "cell_type": "markdown",
   "metadata": {},
   "source": [
    "### Countries which had imposed lockdowns:\n",
    "- Austria (16/03/2020 - 13/04/2020, 03/11/2020 - 30/11/2020, 26/12/2020 - 07/02-2021)\n",
    "- Singapore (07/04/2020 - 01/06/2020, 16/05/2021 - 13/06/2021)\n",
    "- (Obtained from: https://en.wikipedia.org/wiki/COVID-19_lockdowns#Table_of_pandemic_lockdowns)"
   ]
  },
  {
   "cell_type": "markdown",
   "metadata": {},
   "source": [
    "### Singapore Lockdown 1 Analysis"
   ]
  },
  {
   "cell_type": "code",
   "execution_count": 22,
   "metadata": {},
   "outputs": [
    {
     "name": "stderr",
     "output_type": "stream",
     "text": [
      "C:\\Users\\hakim\\anaconda3\\lib\\site-packages\\ipykernel_launcher.py:2: SettingWithCopyWarning: \n",
      "A value is trying to be set on a copy of a slice from a DataFrame.\n",
      "Try using .loc[row_indexer,col_indexer] = value instead\n",
      "\n",
      "See the caveats in the documentation: https://pandas.pydata.org/pandas-docs/stable/user_guide/indexing.html#returning-a-view-versus-a-copy\n",
      "  \n"
     ]
    }
   ],
   "source": [
    "sg_df = combined[combined[\"Country/Region\"] == \"Singapore\"]\n",
    "sg_df[\"New\"] = sg_df[\"Confirmed\"] - sg_df[\"Confirmed\"].shift(1)"
   ]
  },
  {
   "cell_type": "code",
   "execution_count": 23,
   "metadata": {},
   "outputs": [],
   "source": [
    "sg_lockdown = sg_df[(sg_df[\"Date\"] > \"2020-04-06\") & (sg_df[\"Date\"] < \"2020-06-02\")]\n",
    "sg_prelockdown = sg_df[(sg_df[\"Date\"] > \"2020-02-10\") & (sg_df[\"Date\"] < \"2020-04-07\")]"
   ]
  },
  {
   "cell_type": "code",
   "execution_count": 24,
   "metadata": {},
   "outputs": [
    {
     "data": {
      "text/plain": [
       "[Text(0, 0.5, 'Number of New Cases'),\n",
       " Text(0.5, 1.0, 'New Cases over Time (Pre-lockdown)')]"
      ]
     },
     "execution_count": 24,
     "metadata": {},
     "output_type": "execute_result"
    },
    {
     "data": {
      "image/png": "[encoded data removed]",
      "text/plain": [
       "<Figure size 1080x576 with 1 Axes>"
      ]
     },
     "metadata": {
      "needs_background": "light"
     },
     "output_type": "display_data"
    }
   ],
   "source": [
    "plt.figure(figsize = (15,8))\n",
    "sns.lineplot(data = sg_prelockdown, x = \"Date\", y = \"New\").set(title = \"New Cases over Time (Pre-lockdown)\", ylabel = \"Number of New Cases\")\n",
    "#plt.savefig(\"sg_pre.png\")"
   ]
  },
  {
   "cell_type": "markdown",
   "metadata": {},
   "source": [
    "#### Upon inspection, the trend appears to follow an exponential distribution. To obtain an equation, I will utilize 30 days before the start of the lockdown as well as the first 2 weeks of the lockdown."
   ]
  },
  {
   "cell_type": "code",
   "execution_count": 25,
   "metadata": {
    "scrolled": true
   },
   "outputs": [
    {
     "name": "stderr",
     "output_type": "stream",
     "text": [
      "C:\\Users\\hakim\\anaconda3\\lib\\site-packages\\ipykernel_launcher.py:5: SettingWithCopyWarning: \n",
      "A value is trying to be set on a copy of a slice from a DataFrame.\n",
      "Try using .loc[row_indexer,col_indexer] = value instead\n",
      "\n",
      "See the caveats in the documentation: https://pandas.pydata.org/pandas-docs/stable/user_guide/indexing.html#returning-a-view-versus-a-copy\n",
      "  \"\"\"\n"
     ]
    }
   ],
   "source": [
    "forecast_df = sg_df[(sg_df[\"Date\"] > \"2020-03-07\") & (sg_df[\"Date\"] < \"2020-04-21\")]\n",
    "day = []\n",
    "for i in range(0, 44):\n",
    "    day.append(i)\n",
    "forecast_df[\"X\"] = day\n",
    "#forecast_df.to_excel(\"Forecast (SG).xlsx\")"
   ]
  },
  {
   "cell_type": "markdown",
   "metadata": {},
   "source": [
    "#### I exported the data into excel to obtain an exponential trendline equation. The equation obtained was as such:\n",
    "$$ N = 8.7717e^{0.0928*t} $$\n",
    "#### Here, N is the number of \"New\" cases and t is the number of days after \"2020-03-07\" (the first day used in forecast calculations). I could then proceed with forecasting the \"New\" cases during the lockdown period."
   ]
  },
  {
   "cell_type": "code",
   "execution_count": 26,
   "metadata": {},
   "outputs": [
    {
     "name": "stderr",
     "output_type": "stream",
     "text": [
      "C:\\Users\\hakim\\anaconda3\\lib\\site-packages\\pandas\\core\\indexing.py:844: SettingWithCopyWarning: \n",
      "A value is trying to be set on a copy of a slice from a DataFrame.\n",
      "Try using .loc[row_indexer,col_indexer] = value instead\n",
      "\n",
      "See the caveats in the documentation: https://pandas.pydata.org/pandas-docs/stable/user_guide/indexing.html#returning-a-view-versus-a-copy\n",
      "  self.obj[key] = _infer_fill_value(value)\n",
      "C:\\Users\\hakim\\anaconda3\\lib\\site-packages\\pandas\\core\\indexing.py:965: SettingWithCopyWarning: \n",
      "A value is trying to be set on a copy of a slice from a DataFrame.\n",
      "Try using .loc[row_indexer,col_indexer] = value instead\n",
      "\n",
      "See the caveats in the documentation: https://pandas.pydata.org/pandas-docs/stable/user_guide/indexing.html#returning-a-view-versus-a-copy\n",
      "  self.obj[item] = s\n"
     ]
    }
   ],
   "source": [
    "forecast = []\n",
    "for i in range(30, 86):\n",
    "    forecast.append(int(8.7717*np.exp(0.0982*i)))\n",
    "sg_lockdown.loc[:,\"Forecast\"] = forecast"
   ]
  },
  {
   "cell_type": "markdown",
   "metadata": {},
   "source": [
    "#### Now, we can proceed with plotting the \"New\" cases compared to the \"Forecast\" cases to visualize the impact of the lockdown in reducing the number of new cases"
   ]
  },
  {
   "cell_type": "code",
   "execution_count": 27,
   "metadata": {},
   "outputs": [
    {
     "data": {
      "text/plain": [
       "<matplotlib.legend.Legend at 0x2b6c166ab48>"
      ]
     },
     "execution_count": 27,
     "metadata": {},
     "output_type": "execute_result"
    },
    {
     "data": {
      "image/png": "[encoded data removed]",
      "text/plain": [
       "<Figure size 1080x576 with 1 Axes>"
      ]
     },
     "metadata": {
      "needs_background": "light"
     },
     "output_type": "display_data"
    }
   ],
   "source": [
    "sg_combined = pd.concat([sg_prelockdown, sg_lockdown])\n",
    "\n",
    "plt.figure(figsize = (15,8))\n",
    "plt.plot(sg_combined[\"Date\"], sg_combined[\"New\"], label = \"Actual New Cases\")\n",
    "plt.plot(sg_combined[\"Date\"], sg_combined[\"Forecast\"], label = \"Forecasted New Cases\")\n",
    "plt.axvline(datetime.strptime(\"2020-04-07\", \"%Y-%m-%d\"), color = \"red\", label = \"Lockdown period\")\n",
    "plt.axvline(datetime.strptime(\"2020-06-01\", \"%Y-%m-%d\"), color = \"red\")\n",
    "plt.title(\"Forecast vs Actual New Cases during Lockdown (Singapore)\")\n",
    "plt.xlabel(\"Date\")\n",
    "plt.ylabel(\"Number of New Cases\")\n",
    "plt.ylim([0, 2000])\n",
    "plt.legend()\n",
    "#plt.savefig(\"final_sg.png\")"
   ]
  },
  {
   "cell_type": "markdown",
   "metadata": {},
   "source": [
    "### As analysed above, the lockdown appears to have been successful in reducing the rate of increase of new cases as the Actual New Cases showed a decreasing trend after a stabilisation period of around 1-2 weeks in the lockdown."
   ]
  },
  {
   "cell_type": "markdown",
   "metadata": {},
   "source": [
    "### Austria Lockdown 2 Analysis\n",
    "- I repeat the previous pre-processing steps for a different context (Austria) as a comparison"
   ]
  },
  {
   "cell_type": "code",
   "execution_count": 28,
   "metadata": {},
   "outputs": [
    {
     "name": "stderr",
     "output_type": "stream",
     "text": [
      "C:\\Users\\hakim\\anaconda3\\lib\\site-packages\\ipykernel_launcher.py:2: SettingWithCopyWarning: \n",
      "A value is trying to be set on a copy of a slice from a DataFrame.\n",
      "Try using .loc[row_indexer,col_indexer] = value instead\n",
      "\n",
      "See the caveats in the documentation: https://pandas.pydata.org/pandas-docs/stable/user_guide/indexing.html#returning-a-view-versus-a-copy\n",
      "  \n"
     ]
    }
   ],
   "source": [
    "atr_df = combined[combined[\"Country/Region\"] == \"Austria\"]\n",
    "atr_df[\"New\"] = atr_df[\"Confirmed\"] - atr_df[\"Confirmed\"].shift(1)"
   ]
  },
  {
   "cell_type": "code",
   "execution_count": 29,
   "metadata": {},
   "outputs": [],
   "source": [
    "atr_prelockdown = atr_df[(atr_df[\"Date\"] > \"2020-10-12\") & (atr_df[\"Date\"] < \"2020-11-03\")]\n",
    "atr_lockdown = atr_df[(atr_df[\"Date\"] > \"2020-11-02\") & (atr_df[\"Date\"] < \"2020-12-01\")]"
   ]
  },
  {
   "cell_type": "code",
   "execution_count": 30,
   "metadata": {},
   "outputs": [
    {
     "name": "stderr",
     "output_type": "stream",
     "text": [
      "C:\\Users\\hakim\\anaconda3\\lib\\site-packages\\ipykernel_launcher.py:5: SettingWithCopyWarning: \n",
      "A value is trying to be set on a copy of a slice from a DataFrame.\n",
      "Try using .loc[row_indexer,col_indexer] = value instead\n",
      "\n",
      "See the caveats in the documentation: https://pandas.pydata.org/pandas-docs/stable/user_guide/indexing.html#returning-a-view-versus-a-copy\n",
      "  \"\"\"\n"
     ]
    }
   ],
   "source": [
    "forecast_df = atr_df[(atr_df[\"Date\"] > \"2020-10-01\") & (atr_df[\"Date\"] < \"2020-11-18\")]\n",
    "day = []\n",
    "for i in range(0, 47):\n",
    "    day.append(i)\n",
    "forecast_df[\"X\"] = day\n",
    "#forecast_df.to_excel(\"Forecast (Austria).xlsx\")"
   ]
  },
  {
   "cell_type": "markdown",
   "metadata": {},
   "source": [
    "#### I exported the data into excel to obtain an exponential trendline equation. The equation obtained was as such:\n",
    "$$ N = 655.76e^{0.0633*t} $$\n",
    "#### Here, N is the number of \"New\" cases and t is the number of days after \"2020-11-02\" (the first day used in forecast calculations). I could then proceed with forecasting the \"New\" cases during the lockdown period."
   ]
  },
  {
   "cell_type": "code",
   "execution_count": 31,
   "metadata": {},
   "outputs": [
    {
     "name": "stderr",
     "output_type": "stream",
     "text": [
      "C:\\Users\\hakim\\anaconda3\\lib\\site-packages\\pandas\\core\\indexing.py:844: SettingWithCopyWarning: \n",
      "A value is trying to be set on a copy of a slice from a DataFrame.\n",
      "Try using .loc[row_indexer,col_indexer] = value instead\n",
      "\n",
      "See the caveats in the documentation: https://pandas.pydata.org/pandas-docs/stable/user_guide/indexing.html#returning-a-view-versus-a-copy\n",
      "  self.obj[key] = _infer_fill_value(value)\n",
      "C:\\Users\\hakim\\anaconda3\\lib\\site-packages\\pandas\\core\\indexing.py:965: SettingWithCopyWarning: \n",
      "A value is trying to be set on a copy of a slice from a DataFrame.\n",
      "Try using .loc[row_indexer,col_indexer] = value instead\n",
      "\n",
      "See the caveats in the documentation: https://pandas.pydata.org/pandas-docs/stable/user_guide/indexing.html#returning-a-view-versus-a-copy\n",
      "  self.obj[item] = s\n"
     ]
    }
   ],
   "source": [
    "forecast = []\n",
    "for i in range(32, 60):\n",
    "    forecast.append(int(655.76*np.exp(0.0633*i)))\n",
    "atr_lockdown.loc[:,\"Forecast\"] = forecast"
   ]
  },
  {
   "cell_type": "code",
   "execution_count": 32,
   "metadata": {},
   "outputs": [
    {
     "data": {
      "text/plain": [
       "<matplotlib.legend.Legend at 0x2b6b96f4208>"
      ]
     },
     "execution_count": 32,
     "metadata": {},
     "output_type": "execute_result"
    },
    {
     "data": {
      "image/png": "[encoded data removed]",
      "text/plain": [
       "<Figure size 1080x576 with 1 Axes>"
      ]
     },
     "metadata": {
      "needs_background": "light"
     },
     "output_type": "display_data"
    }
   ],
   "source": [
    "atr_combined = pd.concat([atr_prelockdown, atr_lockdown])\n",
    "\n",
    "plt.figure(figsize = (15,8))\n",
    "plt.plot(atr_combined[\"Date\"], atr_combined[\"New\"], label = \"Actual New Cases\")\n",
    "plt.plot(atr_combined[\"Date\"], atr_combined[\"Forecast\"], label = \"Forecasted New Cases\")\n",
    "plt.axvline(datetime.strptime(\"2020-11-03\", \"%Y-%m-%d\"), color = \"red\", label = \"Lockdown period\")\n",
    "plt.axvline(datetime.strptime(\"2020-11-30\", \"%Y-%m-%d\"), color = \"red\")\n",
    "plt.title(\"Forecast vs Actual New Cases during Lockdown (Austria)\")\n",
    "plt.xlabel(\"Date\")\n",
    "plt.ylabel(\"Number of New Cases\")\n",
    "plt.ylim([0, 15000])\n",
    "plt.legend()\n",
    "#plt.savefig(\"final_austria.png\")"
   ]
  },
  {
   "cell_type": "markdown",
   "metadata": {},
   "source": [
    "### Similar to the first lockdown analysis in Singapore, it appears that Austria's government has also successfully implemented a lockdown to quell the increasing number of new cases as can be seen by the Actual New Cases being less than the Forecasted New Cases."
   ]
  },
  {
   "cell_type": "markdown",
   "metadata": {},
   "source": [
    "### In conclusion, it appears that lockdowns being one of the most popular forms of restrictions implemented by governments is successful due to the 2 case studies in Singapore and Austria."
   ]
  },
  {
   "cell_type": "markdown",
   "metadata": {},
   "source": [
    "-------------------------------------------------------------------------------------------------------------------------------"
   ]
  },
  {
   "cell_type": "markdown",
   "metadata": {},
   "source": [
    "## Analysis 2: Investigate the Impact of Selected Demographic Factors on Covid 19 Mortality Rate"
   ]
  },
  {
   "cell_type": "markdown",
   "metadata": {},
   "source": [
    "### Covid 19 is known to be a form of respiratory illness. Does this mean that those with asthma or other such related chronic respiratory illnesses would be more immune than others? Or how about those living in areas with very poor air conditions?"
   ]
  },
  {
   "cell_type": "markdown",
   "metadata": {},
   "source": [
    "## Analysis 2.1: Investigate the impact of countries' proportion of population with asthma with COVID 19 Mortality Rates\n",
    "## Hypothesis: Countries with higher proportion of population with asthma would have higher COVID 19 Mortality Rates"
   ]
  },
  {
   "cell_type": "markdown",
   "metadata": {},
   "source": [
    "### Plan:\n",
    "1. Identify countries with high and low proportion of population with asthma\n",
    "2. Calculate global mortality rate\n",
    "3. Calculate identified countries mortality rate (as of \"2021-05-29\")\n",
    "4. Create visualization of respective country and mortality rates"
   ]
  },
  {
   "cell_type": "markdown",
   "metadata": {},
   "source": [
    "### Data Preparation:\n",
    "1. Subset dataframe based on respective countries\n",
    "2. If countries have multiple \"Provinces\", groupby \"Date\" and sum values for \"Confirmed\", \"Deaths\", \"Recovered\", \"Active\" cases\n",
    "3. Calculate different mortality rates\n",
    "4. Create labelled barplots to compare different countries with different proportion of population with asthma"
   ]
  },
  {
   "cell_type": "markdown",
   "metadata": {},
   "source": [
    "### Proportion of Population with Asthma\n",
    "- 3 High Asthma Proportion: Australia (21.5%), Sweden (20.2%), UK (18.2%)\n",
    "- 3 Low Asthma Proportion: Turkey (2.06%), Bosnia and Herzegovina (1.4%), China (1.4%)\n",
    "- (Obtained from: https://www.ncbi.nlm.nih.gov/pmc/articles/PMC3353191/)"
   ]
  },
  {
   "cell_type": "code",
   "execution_count": 33,
   "metadata": {},
   "outputs": [],
   "source": [
    "global_final = combined.groupby(\"Date\")[[\"Confirmed\", \"Deaths\", \"Recovered\", \"Active\"]].sum()\n",
    "global_mr = round(global_final.iloc[-1, 1]/global_final.iloc[-1, 0] * 100, 2)"
   ]
  },
  {
   "cell_type": "code",
   "execution_count": 34,
   "metadata": {},
   "outputs": [
    {
     "data": {
      "text/html": [
       "<div>\n",
       "<style scoped>\n",
       "    .dataframe tbody tr th:only-of-type {\n",
       "        vertical-align: middle;\n",
       "    }\n",
       "\n",
       "    .dataframe tbody tr th {\n",
       "        vertical-align: top;\n",
       "    }\n",
       "\n",
       "    .dataframe thead th {\n",
       "        text-align: right;\n",
       "    }\n",
       "</style>\n",
       "<table border=\"1\" class=\"dataframe\">\n",
       "  <thead>\n",
       "    <tr style=\"text-align: right;\">\n",
       "      <th></th>\n",
       "      <th>Confirmed</th>\n",
       "      <th>Deaths</th>\n",
       "      <th>Recovered</th>\n",
       "      <th>Active</th>\n",
       "    </tr>\n",
       "    <tr>\n",
       "      <th>Date</th>\n",
       "      <th></th>\n",
       "      <th></th>\n",
       "      <th></th>\n",
       "      <th></th>\n",
       "    </tr>\n",
       "  </thead>\n",
       "  <tbody>\n",
       "    <tr>\n",
       "      <th>2021-05-25</th>\n",
       "      <td>167848207</td>\n",
       "      <td>3485788</td>\n",
       "      <td>104824935</td>\n",
       "      <td>59537484</td>\n",
       "    </tr>\n",
       "    <tr>\n",
       "      <th>2021-05-26</th>\n",
       "      <td>168416423</td>\n",
       "      <td>3498544</td>\n",
       "      <td>105380748</td>\n",
       "      <td>59537131</td>\n",
       "    </tr>\n",
       "    <tr>\n",
       "      <th>2021-05-27</th>\n",
       "      <td>168970791</td>\n",
       "      <td>3511297</td>\n",
       "      <td>106078106</td>\n",
       "      <td>59381388</td>\n",
       "    </tr>\n",
       "    <tr>\n",
       "      <th>2021-05-28</th>\n",
       "      <td>169470725</td>\n",
       "      <td>3523117</td>\n",
       "      <td>106633069</td>\n",
       "      <td>59314539</td>\n",
       "    </tr>\n",
       "    <tr>\n",
       "      <th>2021-05-29</th>\n",
       "      <td>169951560</td>\n",
       "      <td>3533619</td>\n",
       "      <td>107140669</td>\n",
       "      <td>59277272</td>\n",
       "    </tr>\n",
       "  </tbody>\n",
       "</table>\n",
       "</div>"
      ],
      "text/plain": [
       "            Confirmed   Deaths  Recovered    Active\n",
       "Date                                               \n",
       "2021-05-25  167848207  3485788  104824935  59537484\n",
       "2021-05-26  168416423  3498544  105380748  59537131\n",
       "2021-05-27  168970791  3511297  106078106  59381388\n",
       "2021-05-28  169470725  3523117  106633069  59314539\n",
       "2021-05-29  169951560  3533619  107140669  59277272"
      ]
     },
     "execution_count": 34,
     "metadata": {},
     "output_type": "execute_result"
    }
   ],
   "source": [
    "global_final.tail()"
   ]
  },
  {
   "cell_type": "code",
   "execution_count": 35,
   "metadata": {},
   "outputs": [],
   "source": [
    "aus_df = combined[combined[\"Country/Region\"]==\"Australia\"]\n",
    "swe_df = combined[combined[\"Country/Region\"]==\"Sweden\"]\n",
    "uk_df = combined[combined[\"Country/Region\"]==\"UK\"]\n",
    "\n",
    "aus_final = aus_df.groupby(\"Date\")[[\"Confirmed\", \"Deaths\", \"Recovered\", \"Active\"]].sum()\n",
    "swe_final = swe_df.groupby(\"Date\")[[\"Confirmed\", \"Deaths\", \"Recovered\", \"Active\"]].sum()\n",
    "uk_final = uk_df.groupby(\"Date\")[[\"Confirmed\", \"Deaths\", \"Recovered\", \"Active\"]].sum()"
   ]
  },
  {
   "cell_type": "code",
   "execution_count": 36,
   "metadata": {},
   "outputs": [],
   "source": [
    "aus_mr = round(aus_final.iloc[-1, 1]/aus_final.iloc[-1, 0] * 100, 2)\n",
    "swe_mr = round(swe_final.iloc[-1, 1]/swe_final.iloc[-1, 0] * 100, 2)\n",
    "uk_mr = round(uk_final.iloc[-1, 1]/uk_final.iloc[-1, 0] * 100, 2)"
   ]
  },
  {
   "cell_type": "code",
   "execution_count": 37,
   "metadata": {},
   "outputs": [],
   "source": [
    "tu_df = combined[combined[\"Country/Region\"]==\"Turkey\"]\n",
    "bh_df = combined[combined[\"Country/Region\"] == 'Bosnia and Herzegovina']\n",
    "ch_df = combined[(combined[\"Country/Region\"]==\"China\") | (combined[\"Country/Region\"]==\"Mainland China\")]\n",
    "ch_final = ch_df.groupby(\"Date\")[[\"Confirmed\", \"Deaths\", \"Recovered\", \"Active\"]].sum()"
   ]
  },
  {
   "cell_type": "code",
   "execution_count": 38,
   "metadata": {},
   "outputs": [],
   "source": [
    "tu_mr = round(tu_df.iloc[-1, 5]/tu_df.iloc[-1, 4] * 100, 2)\n",
    "bh_mr = round(bh_df.iloc[-1, 5]/bh_df.iloc[-1, 4] * 100, 2)\n",
    "ch_mr = round(ch_final.iloc[-1, 1]/ch_final.iloc[-1, 0] * 100, 2)"
   ]
  },
  {
   "cell_type": "code",
   "execution_count": 39,
   "metadata": {},
   "outputs": [],
   "source": [
    "mr_data = {\"Global\":global_mr, \"Australia\":aus_mr, \"Sweden\":swe_mr, \"UK\":uk_mr, \"Turkey\": tu_mr, \"Bosnia and Herzagovina\":bh_mr, \"China\":ch_mr}\n",
    "mr_df = pd.DataFrame.from_dict(mr_data.items())\n",
    "mr_df = mr_df.rename(columns = {0: \"Country/Region\", 1: \"Mortality Rate\"}) \n",
    "mr_df.loc[:, \"Asthma\"] = [\"NA\", \"High Proportion of Asthma\", \"High Proportion of Asthma\", \"High Proportion of Asthma\", \"Low Proportion of Asthma\", \"Low Proportion of Asthma\", \"Low Proportion of Asthma\"]"
   ]
  },
  {
   "cell_type": "code",
   "execution_count": 40,
   "metadata": {},
   "outputs": [
    {
     "data": {
      "text/plain": [
       "Text(0.5, 1.0, 'Mortality Rate of Countries with Differing Proportion of Population with Asthma')"
      ]
     },
     "execution_count": 40,
     "metadata": {},
     "output_type": "execute_result"
    },
    {
     "data": {
      "image/png": "[encoded data removed]",
      "text/plain": [
       "<Figure size 1080x576 with 1 Axes>"
      ]
     },
     "metadata": {
      "needs_background": "light"
     },
     "output_type": "display_data"
    }
   ],
   "source": [
    "plt.figure(figsize =(15, 8))\n",
    "ax = sns.barplot(data = mr_df, x = \"Country/Region\", y = \"Mortality Rate\", hue = \"Asthma\", dodge = False)\n",
    "\n",
    "for index, row in mr_df.iterrows():\n",
    "    ax.text(index, row[1]+0.05, row[1], color='black', ha=\"center\")\n",
    "    \n",
    "plt.title(\"Mortality Rate of Countries with Differing Proportion of Population with Asthma\")\n",
    "#plt.savefig(\"asthma_mortality.png\")"
   ]
  },
  {
   "cell_type": "markdown",
   "metadata": {},
   "source": [
    "### Based on the bar plot, it is inconclusive whether the proportion of population with asthma contributes to a higher mortality rate. One failure of my modelling process would be the lack of information with regards to the proportion of these cases where the patient exhibits asthma conditions. As such, we would be unable to directly correlate this factor with mortality rate."
   ]
  },
  {
   "cell_type": "markdown",
   "metadata": {},
   "source": [
    "## Analysis 2.2: Investigate the impact of countries' air conditions with COVID 19 Mortality Rates\n",
    "## Hypothesis: Countries with poor air conditions would have higher COVID 19 Mortality Rates"
   ]
  },
  {
   "cell_type": "markdown",
   "metadata": {},
   "source": [
    "### Plan:\n",
    "1. Identify countries with poor and good air conditions\n",
    "2. Calculate global mortality rate\n",
    "3. Calculate identified countries mortality rate (as of \"2021-05-29\")\n",
    "4. Create visualization of respective country and mortality rates"
   ]
  },
  {
   "cell_type": "markdown",
   "metadata": {},
   "source": [
    "### Data Preparation:\n",
    "1. Subset dataframe based on respective countries\n",
    "2. If countries have multiple \"Provinces\", groupby \"Date\" and sum values for \"Confirmed\", \"Deaths\", \"Recovered\", \"Active\" cases\n",
    "3. Calculate different mortality rates\n",
    "4. Create labelled barplots to compare different countries with different level of air conditions"
   ]
  },
  {
   "cell_type": "markdown",
   "metadata": {},
   "source": [
    "### Countries with Adverse Air Conditions \n",
    "- 3 Worst Air Quality: India, Bangladesh, Mongolia\n",
    "- 3 Good Air Quality: Poland, Italy, Republic of Korea\n",
    "- (Obtained from: https://en.wikipedia.org/wiki/List_of_most-polluted_cities_by_particulate_matter_concentration)"
   ]
  },
  {
   "cell_type": "code",
   "execution_count": 41,
   "metadata": {},
   "outputs": [],
   "source": [
    "global_final = combined.groupby(\"Date\")[[\"Confirmed\", \"Deaths\", \"Recovered\", \"Active\"]].sum()\n",
    "global_mr = round(global_final.iloc[-1, 1]/global_final.iloc[-1, 0] * 100, 2)"
   ]
  },
  {
   "cell_type": "code",
   "execution_count": 42,
   "metadata": {},
   "outputs": [],
   "source": [
    "ind_df = combined[combined[\"Country/Region\"]==\"India\"]\n",
    "ba_df = combined[combined[\"Country/Region\"]==\"Bangladesh\"]\n",
    "mo_df = combined[combined[\"Country/Region\"]==\"Mongolia\"]\n",
    "\n",
    "ind_final = ind_df.groupby(\"Date\")[[\"Confirmed\", \"Deaths\", \"Recovered\", \"Active\"]].sum()"
   ]
  },
  {
   "cell_type": "code",
   "execution_count": 43,
   "metadata": {},
   "outputs": [
    {
     "data": {
      "text/html": [
       "<div>\n",
       "<style scoped>\n",
       "    .dataframe tbody tr th:only-of-type {\n",
       "        vertical-align: middle;\n",
       "    }\n",
       "\n",
       "    .dataframe tbody tr th {\n",
       "        vertical-align: top;\n",
       "    }\n",
       "\n",
       "    .dataframe thead th {\n",
       "        text-align: right;\n",
       "    }\n",
       "</style>\n",
       "<table border=\"1\" class=\"dataframe\">\n",
       "  <thead>\n",
       "    <tr style=\"text-align: right;\">\n",
       "      <th></th>\n",
       "      <th>Confirmed</th>\n",
       "      <th>Deaths</th>\n",
       "      <th>Recovered</th>\n",
       "      <th>Active</th>\n",
       "    </tr>\n",
       "    <tr>\n",
       "      <th>Date</th>\n",
       "      <th></th>\n",
       "      <th></th>\n",
       "      <th></th>\n",
       "      <th></th>\n",
       "    </tr>\n",
       "  </thead>\n",
       "  <tbody>\n",
       "    <tr>\n",
       "      <th>2021-05-25</th>\n",
       "      <td>27157795</td>\n",
       "      <td>311388</td>\n",
       "      <td>24350816</td>\n",
       "      <td>2495591</td>\n",
       "    </tr>\n",
       "    <tr>\n",
       "      <th>2021-05-26</th>\n",
       "      <td>27369093</td>\n",
       "      <td>315235</td>\n",
       "      <td>24633951</td>\n",
       "      <td>2419907</td>\n",
       "    </tr>\n",
       "    <tr>\n",
       "      <th>2021-05-27</th>\n",
       "      <td>27555457</td>\n",
       "      <td>318895</td>\n",
       "      <td>24893410</td>\n",
       "      <td>2343152</td>\n",
       "    </tr>\n",
       "    <tr>\n",
       "      <th>2021-05-28</th>\n",
       "      <td>27729247</td>\n",
       "      <td>322512</td>\n",
       "      <td>25178011</td>\n",
       "      <td>2228724</td>\n",
       "    </tr>\n",
       "    <tr>\n",
       "      <th>2021-05-29</th>\n",
       "      <td>27894800</td>\n",
       "      <td>325972</td>\n",
       "      <td>25454320</td>\n",
       "      <td>2114508</td>\n",
       "    </tr>\n",
       "  </tbody>\n",
       "</table>\n",
       "</div>"
      ],
      "text/plain": [
       "            Confirmed  Deaths  Recovered   Active\n",
       "Date                                             \n",
       "2021-05-25   27157795  311388   24350816  2495591\n",
       "2021-05-26   27369093  315235   24633951  2419907\n",
       "2021-05-27   27555457  318895   24893410  2343152\n",
       "2021-05-28   27729247  322512   25178011  2228724\n",
       "2021-05-29   27894800  325972   25454320  2114508"
      ]
     },
     "execution_count": 43,
     "metadata": {},
     "output_type": "execute_result"
    }
   ],
   "source": [
    "ind_final.tail()"
   ]
  },
  {
   "cell_type": "code",
   "execution_count": 44,
   "metadata": {},
   "outputs": [],
   "source": [
    "ind_mr = round(ind_final.iloc[-1, 1]/ind_final.iloc[-1, 0] * 100, 2)\n",
    "ba_mr = round(ba_df.iloc[-1, 5]/ba_df.iloc[-1, 4] * 100, 2)\n",
    "mo_mr = round(mo_df.iloc[-1, 5]/mo_df.iloc[-1, 4] * 100, 2)"
   ]
  },
  {
   "cell_type": "code",
   "execution_count": 45,
   "metadata": {},
   "outputs": [],
   "source": [
    "po_df = combined[combined[\"Country/Region\"]==\"Poland\"]\n",
    "it_df = combined[combined[\"Country/Region\"]==\"Italy\"]\n",
    "kr_df = combined[combined[\"Country/Region\"]==\"South Korea\"]\n",
    "\n",
    "it_final = it_df.groupby(\"Date\")[[\"Confirmed\", \"Deaths\", \"Recovered\", \"Active\"]].sum()"
   ]
  },
  {
   "cell_type": "code",
   "execution_count": 46,
   "metadata": {},
   "outputs": [],
   "source": [
    "po_mr = round(po_df.iloc[-1, 5]/po_df.iloc[-1, 4] * 100, 2)\n",
    "it_mr = round(it_final.iloc[-1, 1]/it_final.iloc[-1, 0] * 100, 2)\n",
    "kr_mr = round(kr_df.iloc[-1, 5]/kr_df.iloc[-1, 4] * 100, 2)"
   ]
  },
  {
   "cell_type": "code",
   "execution_count": 47,
   "metadata": {},
   "outputs": [],
   "source": [
    "mr_data = {\"Global\":global_mr, \"India\":ind_mr, \"Bangladesh\":ba_mr, \"Mongolia\":mo_mr, \"Poland\": po_mr, \"Italy\":it_mr, \"South Korea\":kr_mr}\n",
    "mr_df = pd.DataFrame.from_dict(mr_data.items())\n",
    "mr_df = mr_df.rename(columns = {0: \"Country/Region\", 1: \"Mortality Rate\"}) \n",
    "mr_df.loc[:, \"Air Quality\"] = [\"NA\", \"Bad\", \"Bad\", \"Bad\", \"Good\", \"Good\", \"Good\"]"
   ]
  },
  {
   "cell_type": "code",
   "execution_count": 48,
   "metadata": {},
   "outputs": [
    {
     "data": {
      "text/plain": [
       "Text(0.5, 1.0, 'Mortality Rate of Countries with Differing Air Quality')"
      ]
     },
     "execution_count": 48,
     "metadata": {},
     "output_type": "execute_result"
    },
    {
     "data": {
      "image/png": "[encoded data removed]",
      "text/plain": [
       "<Figure size 1080x576 with 1 Axes>"
      ]
     },
     "metadata": {
      "needs_background": "light"
     },
     "output_type": "display_data"
    }
   ],
   "source": [
    "plt.figure(figsize =(15, 8))\n",
    "ax = sns.barplot(data = mr_df, x = \"Country/Region\", y = \"Mortality Rate\", hue = \"Air Quality\", dodge = False)\n",
    "\n",
    "for index, row in mr_df.iterrows():\n",
    "    ax.text(index, row[1]+0.05, row[1], color='black', ha=\"center\")\n",
    "    \n",
    "plt.title(\"Mortality Rate of Countries with Differing Air Quality\")\n",
    "#plt.savefig(\"air_mortality.png\")"
   ]
  },
  {
   "cell_type": "markdown",
   "metadata": {},
   "source": [
    "### Again, it appears that the impact of air quality on mortality rate is inconclusive as the above examples show that countries with worse air quality have lower mortality rates than countries with good air quality. This is surprising so I conducted some further research into the topic and found a relevant blogpost (https://www.lung.org/blog/covid-19-mortality-and-air-pollution). In the blogpost, it is mentioned that increased exposure to particle pollution does cause an increase in the COVID 19 mortality rate. Perhaps a reason this analysis was unable to record a similar conclusion was due to me joining the different provinces into 1 country. The provinces may have different air quality from one another and a better approach would be to obtain province specific air quality data and conduct analysis based on these high or low air quality provinces"
   ]
  }
 ],
 "metadata": {
  "kernelspec": {
   "display_name": "Python 3",
   "language": "python",
   "name": "python3"
  },
  "language_info": {
   "codemirror_mode": {
    "name": "ipython",
    "version": 3
   },
   "file_extension": ".py",
   "mimetype": "text/x-python",
   "name": "python",
   "nbconvert_exporter": "python",
   "pygments_lexer": "ipython3",
   "version": "3.7.6"
  }
 },
 "nbformat": 4,
 "nbformat_minor": 4
}
